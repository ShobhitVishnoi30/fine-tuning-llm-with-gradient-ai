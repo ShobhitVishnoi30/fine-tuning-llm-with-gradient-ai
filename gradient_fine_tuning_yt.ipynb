{
  "nbformat": 4,
  "nbformat_minor": 0,
  "metadata": {
    "colab": {
      "provenance": []
    },
    "kernelspec": {
      "name": "python3",
      "display_name": "Python 3"
    },
    "language_info": {
      "name": "python"
    }
  },
  "cells": [
    {
      "cell_type": "code",
      "source": [
        "!pip install gradientai --upgrade"
      ],
      "metadata": {
        "id": "wak76xYYUdXE",
        "outputId": "e178c739-c6ff-4c38-d1a2-e0a4799ebac8",
        "colab": {
          "base_uri": "https://localhost:8080/"
        }
      },
      "execution_count": 1,
      "outputs": [
        {
          "output_type": "stream",
          "name": "stdout",
          "text": [
            "Collecting gradientai\n",
            "  Downloading gradientai-1.3.0-py3-none-any.whl (169 kB)\n",
            "\u001b[2K     \u001b[90m━━━━━━━━━━━━━━━━━━━━━━━━━━━━━━━━━━━━━━━━\u001b[0m \u001b[32m169.7/169.7 kB\u001b[0m \u001b[31m4.5 MB/s\u001b[0m eta \u001b[36m0:00:00\u001b[0m\n",
            "\u001b[?25hCollecting aenum>=3.1.11 (from gradientai)\n",
            "  Downloading aenum-3.1.15-py3-none-any.whl (137 kB)\n",
            "\u001b[2K     \u001b[90m━━━━━━━━━━━━━━━━━━━━━━━━━━━━━━━━━━━━━━━━\u001b[0m \u001b[32m137.6/137.6 kB\u001b[0m \u001b[31m14.0 MB/s\u001b[0m eta \u001b[36m0:00:00\u001b[0m\n",
            "\u001b[?25hRequirement already satisfied: pydantic<2.0.0,>=1.10.5 in /usr/local/lib/python3.10/dist-packages (from gradientai) (1.10.13)\n",
            "Requirement already satisfied: python-dateutil>=2.8.2 in /usr/local/lib/python3.10/dist-packages (from gradientai) (2.8.2)\n",
            "Requirement already satisfied: urllib3>=1.25.3 in /usr/local/lib/python3.10/dist-packages (from gradientai) (2.0.7)\n",
            "Requirement already satisfied: typing-extensions>=4.2.0 in /usr/local/lib/python3.10/dist-packages (from pydantic<2.0.0,>=1.10.5->gradientai) (4.5.0)\n",
            "Requirement already satisfied: six>=1.5 in /usr/local/lib/python3.10/dist-packages (from python-dateutil>=2.8.2->gradientai) (1.16.0)\n",
            "Installing collected packages: aenum, gradientai\n",
            "Successfully installed aenum-3.1.15 gradientai-1.3.0\n"
          ]
        }
      ]
    },
    {
      "cell_type": "code",
      "source": [
        "import os\n",
        "os.environ['GRADIENT_ACCESS_TOKEN'] = \"\"\n",
        "os.environ['GRADIENT_WORKSPACE_ID'] = \"\""
      ],
      "metadata": {
        "id": "U02ytLrPA2rG"
      },
      "execution_count": 2,
      "outputs": []
    },
    {
      "cell_type": "code",
      "source": [
        "from gradientai import Gradient\n",
        "\n",
        "def main():\n",
        "  with Gradient() as gradient:\n",
        "      base_model = gradient.get_base_model(base_model_slug=\"nous-hermes2\")\n",
        "\n",
        "      new_model_adapter = base_model.create_model_adapter(\n",
        "          name=\"test model 3\"\n",
        "      )\n",
        "      print(f\"Created model adapter with id {new_model_adapter.id}\")\n",
        "      sample_query = \"### Instruction: Who is Shobhit Vishnoi? \\n\\n### Response:\"\n",
        "      print(f\"Asking: {sample_query}\")\n",
        "\n",
        "      # before fine-tuning\n",
        "      completion = new_model_adapter.complete(query=sample_query, max_generated_token_count=100).generated_output\n",
        "      print(f\"Generated (before fine-tune): {completion}\")\n",
        "\n",
        "      samples = [\n",
        "        { \"inputs\": \"### Instruction: Who is Shobhit Vishnoi? \\n\\n### Response: Shobhit Vishnoi is a Blockchain Lead at RapidInnovation with expertise in DeFi, NFTs, and blockchain technologies.\" },\n",
        "        { \"inputs\": \"### Instruction: What is Shobhit Vishnoi's role at RapidInnovation? \\n\\n### Response: Shobhit Vishnoi serves as the Lead Blockchain Engineer at RapidInnovation, contributing to the design and technical discovery of blockchain projects.\" },\n",
        "        { \"inputs\": \"### Instruction: Where did Shobhit Vishnoi work before RapidInnovation? \\n\\n### Response: Before RapidInnovation, Shobhit worked as an Application Developer at Lotpick Consultancy Services, focusing on Flutter and Firebase for mobile app development.\" },\n",
        "        { \"inputs\": \"### Instruction: What are Shobhit Vishnoi's skills? \\n\\n### Response: Shobhit Vishnoi possesses skills in Blockchain (Ethereum, Binance Smart Chain, Polygon), Solidity, web3.js, Ethers.js, Flutter, Firebase, and more.\" },\n",
        "        { \"inputs\": \"### Instruction: Can you provide information about Shobhit Vishnoi's achievements? \\n\\n### Response: Shobhit Vishnoi was a finalist in Smart India Hackathon (2020) and secured the first position in Hacknovate (2020).\" },\n",
        "        { \"inputs\": \"### Instruction: Describe the project 'Royale' led by Shobhit Vishnoi. \\n\\n### Response: Royale is a project involving loans to game developers using staked stable tokens. Shobhit created smart contracts for stable coin liquidity pools, LP tokens, and staking pools.\" },\n",
        "        { \"inputs\": \"### Instruction: What is the project 'Buta.gg' by Shobhit Vishnoi about? \\n\\n### Response: Buta.gg involves the development of a customized Uniswap V2 with features like referrals and fee distribution. Shobhit modified fees structures and developed distribution contracts.\" },\n",
        "        { \"inputs\": \"### Instruction: What is 'UFO Gaming,' and how did Shobhit Vishnoi contribute to it? \\n\\n### Response: UFO Gaming unites Play-to-Earn, Metaverse, NFTs, and IDO Launchpad. Shobhit contributed to understanding the marketplace contract, NFT breeding, staking contract, and tokenomics.\" },\n",
        "        { \"inputs\": \"### Instruction: Tell me about Shobhit Vishnoi's personal project 'Store Management System.' \\n\\n### Response: Shobhit developed a Nest.js-based user management API with features like user registration, login, password reset, and an inventory management API with CRUD operations.\" },\n",
        "        { \"inputs\": \"### Instruction: Explain Shobhit Vishnoi's project 'Interactive Chatbot Using Rust.' \\n\\n### Response: Shobhit created a Rust-based chatbot using the OpenAI GPT-3.5 Turbo model, providing a conversational experience through the command line.\" },\n",
        "        { \"inputs\": \"### Instruction: What is the project 'Oddz Finance' led by Shobhit Vishnoi? \\n\\n### Response: Oddz Finance involves the development of an on-chain perpetual futures options platform using Uniswap V3. Shobhit created smart contracts for various functionalities.\" },\n",
        "        { \"inputs\": \"### Instruction: Describe 'Pico Wallet' and Shobhit Vishnoi's role in its development. \\n\\n### Response: Pico is a custodial wallet using AWS KMS for secure storage. Shobhit developed smart contracts for swap functionality with 1inch and researched Tornado.cash for privacy solutions.\" },\n",
        "        { \"inputs\": \"### Instruction: What is 'WinWin Finance,' and how did Shobhit Vishnoi contribute to it? \\n\\n### Response: WinWin is a smart contract platform for staking and yield earning. Shobhit led the architectural design, implemented yield-generating protocols, and contributed to overall development.\" },\n",
        "        { \"inputs\": \"### Instruction: What are Shobhit Vishnoi's interests? \\n\\n### Response: Shobhit has interests in enterprise and public blockchains, Layer2 technologies (ZK rollup, snark), Rust programming, and cricket.\" },\n",
        "        { \"inputs\": \"### Instruction: In which languages is Shobhit Vishnoi proficient? \\n\\n### Response: Shobhit is proficient in Hindi (native and bilingual proficiency) and English (professional proficiency).\" },\n",
        "        { \"inputs\": \"### Instruction: What was Shobhit Vishnoi's role in the 'Smart India Hackathon (2020)'? \\n\\n### Response: Shobhit Vishnoi was a finalist in the Smart India Hackathon (2020), a nationwide initiative fostering product innovation and problem-solving among students.\" },\n",
        "        { \"inputs\": \"### Instruction: How did Shobhit Vishnoi contribute to the project 'Hacknovate 2.0 (2020)'? \\n\\n### Response: Shobhit secured the first position in Hacknovate 2.0 (2020), showcasing his skills and competing with other technocrats and coders.\" },\n",
        "        { \"inputs\": \"### Instruction: Can you provide details about Shobhit Vishnoi's project 'Book Management GraphQL API'? \\n\\n### Response: 'Book Management GraphQL API' is a Nest.js-based project for managing books, including CRUD operations and interaction with a PostgreSQL database using TypeORM.\" },\n",
        "        { \"inputs\": \"### Instruction: Explain Shobhit Vishnoi's project 'Interactive Chatbot Using Rust.' \\n\\n### Response: Shobhit developed a Rust-based chatbot using the OpenAI GPT-3.5 Turbo model, enabling users to interact with an assistant through the command line.\" },\n",
        "        { \"inputs\": \"### Instruction: What was Shobhit Vishnoi's role in the project 'Pico Wallet'? \\n\\n### Response: Shobhit worked on developing smart contracts that enable swap functionality within the Pico custodial wallet, integrating with 1inch for cryptocurrency exchange.\" },\n",
        "        { \"inputs\": \"### Instruction: How did Shobhit Vishnoi contribute to the project 'WinWin Finance'? \\n\\n### Response: Shobhit led the architectural design of WinWin Finance, implementing yield-generating protocols for stakers and contributing to the overall development and improvement of the platform.\" },\n",
        "        { \"inputs\": \"### Instruction: Can you explain Shobhit Vishnoi's interest in Rust programming? \\n\\n### Response: Shobhit has a keen interest in Rust programming, a systems programming language known for its performance, reliability, and memory safety features.\" },\n",
        "        { \"inputs\": \"### Instruction: What are the key features of Shobhit Vishnoi's 'Store Management System' project? \\n\\n### Response: The project includes a Nest.js-based user management API with features such as user registration, login, password reset, and inventory management API with CRUD operations.\" },\n",
        "        { \"inputs\": \"### Instruction: In the 'Royale' project, what is the significance of holding NFTs? \\n\\n### Response: In the Royale project, holding NFTs provides discounts on profits from invested games, adding an incentive for users to participate in the ecosystem.\" },\n",
        "        { \"inputs\": \"### Instruction: How did Shobhit Vishnoi contribute to the 'Buta.gg' project's fee structure modification? \\n\\n### Response: Shobhit worked on modifying the fees structure of Uniswap V2 smart contracts in the Buta.gg project, enhancing the project's financial dynamics.\" },\n",
        "        { \"inputs\": \"### Instruction: What technologies did Shobhit Vishnoi use in the 'UFO Gaming' project? \\n\\n### Response: Shobhit worked on understanding and contributing to various aspects of UFO Gaming, including its marketplace contract, NFT breeding, and staking contract, utilizing diverse technologies.\" },\n",
        "        { \"inputs\": \"### Instruction: Explain the purpose of Shobhit Vishnoi's project 'Oddz Finance.' \\n\\n### Response: Oddz Finance focuses on developing an on-chain perpetual futures options platform, allowing traders to speculate on asset prices without ownership and settle contracts daily.\" },\n",
        "        { \"inputs\": \"### Instruction: What is the significance of the 'Pico Wallet' project's integration with 1Inch? \\n\\n### Response: In the Pico Wallet project, integration with 1Inch enables users to easily exchange one cryptocurrency for another within the wallet interface, enhancing user convenience.\" },\n",
        "        { \"inputs\": \"### Instruction: What does 'WinWin Finance' aim to provide in its ecosystem? \\n\\n### Response: WinWin Finance aims to provide a smart contract platform that enables users to stake WIN, PRC20, and HEX tokens, earn yield, and participate in transparent and secure prize pools.\" },\n",
        "        { \"inputs\": \"### Instruction: How did Shobhit Vishnoi contribute to the 'RapidInnovation' projects related to DeFi and NFTs? \\n\\n### Response: As the Lead Blockchain Engineer at RapidInnovation, Shobhit played a key role in creating projects related to DeFi and NFTs, designing the architecture, and leading technical discovery.\" },\n",
        "        { \"inputs\": \"### Instruction: Explain the focus areas of Shobhit Vishnoi's interest in enterprise and public blockchains. \\n\\n### Response: Shobhit has a particular interest in enterprise and public blockchains, exploring topics such as Layer2 technologies (ZK rollup, snark) and contributing to the advancement of blockchain ecosystems.\" },\n",
        "        { \"inputs\": \"### Instruction: How did Shobhit Vishnoi contribute to the 'Royale' project's token staking contract? \\n\\n### Response: Shobhit worked on building a token staking contract in the Royale project that rewards users for staking their tokens, enhancing the overall incentive structure within the ecosystem.\" },\n",
        "        { \"inputs\": \"### Instruction: What features did Shobhit Vishnoi develop in the 'Store Management System' project's inventory management API? \\n\\n### Response: Shobhit developed CRUD operations for products, filtering, and a shopping cart functionality in the inventory management API of the Store Management System project, incorporating authentication and role-based access control.\" },\n",
        "        { \"inputs\": \"### Instruction: Describe Shobhit Vishnoi's involvement in the 'Smart India Hackathon (2020)' as a finalist. \\n\\n### Response: Shobhit Vishnoi showcased his problem-solving skills and product innovation as a finalist in the Smart India Hackathon (2020), a nationwide initiative for students to tackle real-world challenges.\" },\n",
        "        { \"inputs\": \"### Instruction: What is the focus of Shobhit Vishnoi's personal project 'Interactive Chatbot Using Rust'? \\n\\n### Response: Shobhit's personal project involves creating a chat-based assistant using the OpenAI GPT-3.5 Turbo model in Rust, providing users with a conversational experience through the command line.\" }\n",
        "      ]\n",
        "\n",
        "      # this is where fine-tuning happens\n",
        "      # num_epochs is the number of times you fine-tune the model\n",
        "      # more epochs tends to get better results, but you also run the risk of \"overfitting\"\n",
        "      # play around with this number to find what works best for you\n",
        "      num_epochs = 6\n",
        "      count = 0\n",
        "      while count < num_epochs:\n",
        "          print(f\"Fine-tuning the model, iteration {count + 1}\")\n",
        "          new_model_adapter.fine_tune(samples=samples)\n",
        "          count = count + 1\n",
        "\n",
        "      # after fine-tuning\n",
        "      completion = new_model_adapter.complete(query=sample_query, max_generated_token_count=100).generated_output\n",
        "      print(f\"Generated (after fine-tune): {completion}\")\n",
        "\n",
        "\n",
        "      sample_query = \"### Instruction: What projects shobhit has worked on?? \\n\\n### Response:\"\n",
        "      print(f\"Asking: {sample_query}\")\n",
        "\n",
        "      completion = new_model_adapter.complete(query=sample_query, max_generated_token_count=100).generated_output\n",
        "      print(f\"Generated (after fine-tune): {completion}\")\n",
        "\n",
        "      new_model_adapter.delete()\n",
        "\n",
        "if __name__ == \"__main__\":\n",
        "    main()"
      ],
      "metadata": {
        "id": "Scor9o08VVhQ",
        "colab": {
          "base_uri": "https://localhost:8080/"
        },
        "outputId": "15c54744-6888-47dd-81f8-6016f8f3bec0"
      },
      "execution_count": 7,
      "outputs": [
        {
          "output_type": "stream",
          "name": "stdout",
          "text": [
            "Created model adapter with id 516fcbce-b70c-4d7e-9a55-c0d4fcc9a6cb_model_adapter\n",
            "Asking: ### Instruction: Who is Shobhit Vishnoi? \n",
            "\n",
            "### Response:\n",
            "Generated (before fine-tune):  Shobhit Vishnoi is a software engineer and a writer. He is known for his work in the field of computer science and technology, and has written several articles and books on the subject.\n",
            "Fine-tuning the model, iteration 1\n",
            "Fine-tuning the model, iteration 2\n",
            "Fine-tuning the model, iteration 3\n",
            "Fine-tuning the model, iteration 4\n",
            "Fine-tuning the model, iteration 5\n",
            "Fine-tuning the model, iteration 6\n",
            "Generated (after fine-tune):  Shobhit Vishnoi is a software engineer at RapidInnovation with expertise in blockchain, cryptocurrencies, and NFTs.\n",
            "Asking: ### Instruction: What projects shobhit has worked on?? \n",
            "\n",
            "### Response:\n",
            "Generated (after fine-tune):  Shobhit has worked on various projects, including a smart contract-based NFT marketplace, a blockchain-based supply chain management system, and a decentralized exchange.\n"
          ]
        }
      ]
    }
  ]
}